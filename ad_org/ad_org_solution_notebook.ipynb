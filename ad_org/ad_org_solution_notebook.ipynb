{
 "cells": [
  {
   "cell_type": "markdown",
   "metadata": {},
   "source": [
    "### Problem Statement\n",
    "For any video YouTube provides some data metrices such as Views, Likes, Comments, Shares, etc available publically.\n",
    "Based on these data metrices one has to predict the ad views i.e. views earned through advertizements. External library \n",
    "or any dataset can be used for the prediction.\n",
    "\n",
    "#### [Data Set](https://github.com/vidoolytech/hiringtask/tree/master/machine_learning/ad_org)"
   ]
  },
  {
   "cell_type": "code",
   "execution_count": 1,
   "metadata": {},
   "outputs": [
    {
     "name": "stderr",
     "output_type": "stream",
     "text": [
      "C:\\Users\\parve\\Anaconda3\\lib\\site-packages\\sklearn\\ensemble\\weight_boosting.py:29: DeprecationWarning: numpy.core.umath_tests is an internal NumPy module and should not be imported. It will be removed in a future NumPy release.\n",
      "  from numpy.core.umath_tests import inner1d\n"
     ]
    },
    {
     "name": "stdout",
     "output_type": "stream",
     "text": [
      "['ad_org_test.csv', 'ad_org_train.csv', 'output.csv']\n"
     ]
    }
   ],
   "source": [
    "#Libraries\n",
    "import os\n",
    "import numpy as np\n",
    "import pandas as pd\n",
    "import matplotlib.pyplot as plt\n",
    "import seaborn as sns\n",
    "\n",
    "import warnings\n",
    "warnings.filterwarnings('ignore')\n",
    "\n",
    "from sklearn.linear_model import LinearRegression\n",
    "from sklearn.preprocessing import LabelEncoder\n",
    "from sklearn.ensemble import RandomForestRegressor\n",
    "\n",
    "from scipy import stats\n",
    "from scipy.stats import norm, skew\n",
    "\n",
    "%matplotlib inline\n",
    "\n",
    "#Checking data files\n",
    "print(os.listdir('data/mn'))"
   ]
  },
  {
   "cell_type": "code",
   "execution_count": 2,
   "metadata": {},
   "outputs": [
    {
     "name": "stdout",
     "output_type": "stream",
     "text": [
      "Size of train & Test is :-->  (14999, 9) (8764, 8)\n"
     ]
    }
   ],
   "source": [
    "df_train = pd.read_csv('data/mn/ad_org_train.csv',)\n",
    "df_test = pd.read_csv('data/mn/ad_org_test.csv')\n",
    "\n",
    "#shape of Data provided\n",
    "print('Size of train & Test is :--> ',df_train.shape, df_test.shape)"
   ]
  },
  {
   "cell_type": "code",
   "execution_count": 3,
   "metadata": {},
   "outputs": [
    {
     "data": {
      "text/html": [
       "<div>\n",
       "<style scoped>\n",
       "    .dataframe tbody tr th:only-of-type {\n",
       "        vertical-align: middle;\n",
       "    }\n",
       "\n",
       "    .dataframe tbody tr th {\n",
       "        vertical-align: top;\n",
       "    }\n",
       "\n",
       "    .dataframe thead th {\n",
       "        text-align: right;\n",
       "    }\n",
       "</style>\n",
       "<table border=\"1\" class=\"dataframe\">\n",
       "  <thead>\n",
       "    <tr style=\"text-align: right;\">\n",
       "      <th></th>\n",
       "      <th>vidid</th>\n",
       "      <th>adview</th>\n",
       "      <th>views</th>\n",
       "      <th>likes</th>\n",
       "      <th>dislikes</th>\n",
       "      <th>comment</th>\n",
       "      <th>published</th>\n",
       "      <th>duration</th>\n",
       "      <th>category</th>\n",
       "    </tr>\n",
       "  </thead>\n",
       "  <tbody>\n",
       "    <tr>\n",
       "      <th>0</th>\n",
       "      <td>VID_18655</td>\n",
       "      <td>40</td>\n",
       "      <td>1031602</td>\n",
       "      <td>8523</td>\n",
       "      <td>363</td>\n",
       "      <td>1095</td>\n",
       "      <td>2016-09-14</td>\n",
       "      <td>PT7M37S</td>\n",
       "      <td>F</td>\n",
       "    </tr>\n",
       "    <tr>\n",
       "      <th>1</th>\n",
       "      <td>VID_14135</td>\n",
       "      <td>2</td>\n",
       "      <td>1707</td>\n",
       "      <td>56</td>\n",
       "      <td>2</td>\n",
       "      <td>6</td>\n",
       "      <td>2016-10-01</td>\n",
       "      <td>PT9M30S</td>\n",
       "      <td>D</td>\n",
       "    </tr>\n",
       "    <tr>\n",
       "      <th>2</th>\n",
       "      <td>VID_2187</td>\n",
       "      <td>1</td>\n",
       "      <td>2023</td>\n",
       "      <td>25</td>\n",
       "      <td>0</td>\n",
       "      <td>2</td>\n",
       "      <td>2016-07-02</td>\n",
       "      <td>PT2M16S</td>\n",
       "      <td>C</td>\n",
       "    </tr>\n",
       "    <tr>\n",
       "      <th>3</th>\n",
       "      <td>VID_23096</td>\n",
       "      <td>6</td>\n",
       "      <td>620860</td>\n",
       "      <td>777</td>\n",
       "      <td>161</td>\n",
       "      <td>153</td>\n",
       "      <td>2016-07-27</td>\n",
       "      <td>PT4M22S</td>\n",
       "      <td>H</td>\n",
       "    </tr>\n",
       "    <tr>\n",
       "      <th>4</th>\n",
       "      <td>VID_10175</td>\n",
       "      <td>1</td>\n",
       "      <td>666</td>\n",
       "      <td>1</td>\n",
       "      <td>0</td>\n",
       "      <td>0</td>\n",
       "      <td>2016-06-29</td>\n",
       "      <td>PT31S</td>\n",
       "      <td>D</td>\n",
       "    </tr>\n",
       "  </tbody>\n",
       "</table>\n",
       "</div>"
      ],
      "text/plain": [
       "       vidid  adview    views likes dislikes comment   published duration  \\\n",
       "0  VID_18655      40  1031602  8523      363    1095  2016-09-14  PT7M37S   \n",
       "1  VID_14135       2     1707    56        2       6  2016-10-01  PT9M30S   \n",
       "2   VID_2187       1     2023    25        0       2  2016-07-02  PT2M16S   \n",
       "3  VID_23096       6   620860   777      161     153  2016-07-27  PT4M22S   \n",
       "4  VID_10175       1      666     1        0       0  2016-06-29    PT31S   \n",
       "\n",
       "  category  \n",
       "0        F  \n",
       "1        D  \n",
       "2        C  \n",
       "3        H  \n",
       "4        D  "
      ]
     },
     "execution_count": 3,
     "metadata": {},
     "output_type": "execute_result"
    }
   ],
   "source": [
    "df_train.head()"
   ]
  },
  {
   "cell_type": "code",
   "execution_count": 4,
   "metadata": {},
   "outputs": [
    {
     "data": {
      "text/html": [
       "<div>\n",
       "<style scoped>\n",
       "    .dataframe tbody tr th:only-of-type {\n",
       "        vertical-align: middle;\n",
       "    }\n",
       "\n",
       "    .dataframe tbody tr th {\n",
       "        vertical-align: top;\n",
       "    }\n",
       "\n",
       "    .dataframe thead th {\n",
       "        text-align: right;\n",
       "    }\n",
       "</style>\n",
       "<table border=\"1\" class=\"dataframe\">\n",
       "  <thead>\n",
       "    <tr style=\"text-align: right;\">\n",
       "      <th></th>\n",
       "      <th>vidid</th>\n",
       "      <th>views</th>\n",
       "      <th>likes</th>\n",
       "      <th>dislikes</th>\n",
       "      <th>comment</th>\n",
       "      <th>published</th>\n",
       "      <th>duration</th>\n",
       "      <th>category</th>\n",
       "    </tr>\n",
       "  </thead>\n",
       "  <tbody>\n",
       "    <tr>\n",
       "      <th>0</th>\n",
       "      <td>VID_1054</td>\n",
       "      <td>440238</td>\n",
       "      <td>6153</td>\n",
       "      <td>218</td>\n",
       "      <td>1377</td>\n",
       "      <td>2017-02-18</td>\n",
       "      <td>PT7M29S</td>\n",
       "      <td>B</td>\n",
       "    </tr>\n",
       "    <tr>\n",
       "      <th>1</th>\n",
       "      <td>VID_18629</td>\n",
       "      <td>1040132</td>\n",
       "      <td>8171</td>\n",
       "      <td>340</td>\n",
       "      <td>1047</td>\n",
       "      <td>2016-06-28</td>\n",
       "      <td>PT6M29S</td>\n",
       "      <td>F</td>\n",
       "    </tr>\n",
       "    <tr>\n",
       "      <th>2</th>\n",
       "      <td>VID_13967</td>\n",
       "      <td>28534</td>\n",
       "      <td>31</td>\n",
       "      <td>11</td>\n",
       "      <td>1</td>\n",
       "      <td>2014-03-10</td>\n",
       "      <td>PT37M54S</td>\n",
       "      <td>D</td>\n",
       "    </tr>\n",
       "    <tr>\n",
       "      <th>3</th>\n",
       "      <td>VID_19442</td>\n",
       "      <td>1316715</td>\n",
       "      <td>2284</td>\n",
       "      <td>250</td>\n",
       "      <td>274</td>\n",
       "      <td>2010-06-05</td>\n",
       "      <td>PT9M55S</td>\n",
       "      <td>G</td>\n",
       "    </tr>\n",
       "    <tr>\n",
       "      <th>4</th>\n",
       "      <td>VID_770</td>\n",
       "      <td>1893173</td>\n",
       "      <td>2519</td>\n",
       "      <td>225</td>\n",
       "      <td>116</td>\n",
       "      <td>2016-09-03</td>\n",
       "      <td>PT3M8S</td>\n",
       "      <td>B</td>\n",
       "    </tr>\n",
       "  </tbody>\n",
       "</table>\n",
       "</div>"
      ],
      "text/plain": [
       "       vidid    views likes dislikes comment   published  duration category\n",
       "0   VID_1054   440238  6153      218    1377  2017-02-18   PT7M29S        B\n",
       "1  VID_18629  1040132  8171      340    1047  2016-06-28   PT6M29S        F\n",
       "2  VID_13967    28534    31       11       1  2014-03-10  PT37M54S        D\n",
       "3  VID_19442  1316715  2284      250     274  2010-06-05   PT9M55S        G\n",
       "4    VID_770  1893173  2519      225     116  2016-09-03    PT3M8S        B"
      ]
     },
     "execution_count": 4,
     "metadata": {},
     "output_type": "execute_result"
    }
   ],
   "source": [
    "df_test.head()"
   ]
  },
  {
   "cell_type": "markdown",
   "metadata": {},
   "source": [
    "### Uniqueness in Data"
   ]
  },
  {
   "cell_type": "code",
   "execution_count": 5,
   "metadata": {},
   "outputs": [
    {
     "name": "stdout",
     "output_type": "stream",
     "text": [
      "vidid 14999\n",
      "adview 999\n",
      "views 14588\n",
      "likes 4789\n",
      "dislikes 1546\n",
      "comment 2007\n",
      "published 2386\n",
      "duration 3146\n",
      "category 8\n"
     ]
    }
   ],
   "source": [
    "for i in df_train.columns:\n",
    "    print(i,len(df_train[i].value_counts()))"
   ]
  },
  {
   "cell_type": "code",
   "execution_count": 6,
   "metadata": {},
   "outputs": [
    {
     "name": "stdout",
     "output_type": "stream",
     "text": [
      "No Leaking\n"
     ]
    }
   ],
   "source": [
    "# Data Leakage check \n",
    "lek = pd.concat([df_train.vidid,df_test.vidid])\n",
    "\n",
    "if lek.shape[0] == len(lek.value_counts()):\n",
    "    print('No Leaking')\n",
    "else:\n",
    "    print('data leaking')"
   ]
  },
  {
   "cell_type": "code",
   "execution_count": 7,
   "metadata": {},
   "outputs": [
    {
     "name": "stdout",
     "output_type": "stream",
     "text": [
      "vidid        0\n",
      "adview       0\n",
      "views        0\n",
      "likes        0\n",
      "dislikes     0\n",
      "comment      0\n",
      "published    0\n",
      "duration     0\n",
      "category     0\n",
      "dtype: int64\n"
     ]
    }
   ],
   "source": [
    "# Checking Missing Values in Data\n",
    "print(df_train.isnull().sum())\n",
    "\n",
    "# # Test\n",
    "#print(df_test.isnull().sum())"
   ]
  },
  {
   "cell_type": "markdown",
   "metadata": {},
   "source": [
    "No mising values found"
   ]
  },
  {
   "cell_type": "markdown",
   "metadata": {},
   "source": [
    "### Data Exploration and Data Preprocessing"
   ]
  },
  {
   "cell_type": "code",
   "execution_count": 8,
   "metadata": {},
   "outputs": [
    {
     "name": "stdout",
     "output_type": "stream",
     "text": [
      "<class 'pandas.core.frame.DataFrame'>\n",
      "RangeIndex: 14999 entries, 0 to 14998\n",
      "Data columns (total 9 columns):\n",
      "vidid        14999 non-null object\n",
      "adview       14999 non-null int64\n",
      "views        14999 non-null object\n",
      "likes        14999 non-null object\n",
      "dislikes     14999 non-null object\n",
      "comment      14999 non-null object\n",
      "published    14999 non-null object\n",
      "duration     14999 non-null object\n",
      "category     14999 non-null object\n",
      "dtypes: int64(1), object(8)\n",
      "memory usage: 1.0+ MB\n"
     ]
    }
   ],
   "source": [
    "df_train.info()"
   ]
  },
  {
   "cell_type": "code",
   "execution_count": 9,
   "metadata": {},
   "outputs": [],
   "source": [
    "#Merging Data Frame Test & Train\n",
    "df = pd.concat([df_train,df_test])"
   ]
  },
  {
   "cell_type": "code",
   "execution_count": 10,
   "metadata": {},
   "outputs": [
    {
     "name": "stdout",
     "output_type": "stream",
     "text": [
      "views has a value 'F' =>  3\n",
      "dislikes has a value 'F' =>  243\n",
      "likes has a value 'F' =>  243\n",
      "comment has a value 'F' =>  384\n"
     ]
    }
   ],
   "source": [
    "# # Finding all 'F' values converting them as nan and Also changing the data type to numeric\n",
    "def f_to_nan(col,df):\n",
    "    print(\"{} has a value 'F' =>  {}\".format(col,len(df[df[col] == 'F'])))\n",
    "    df.loc[df[col] == 'F',col] = np.nan  #  # changing 'F' value to NaN\n",
    "    df[col] = df[col].astype(np.number) #  # converting to float\n",
    "    df[col] = df[col]\n",
    "    return df\n",
    "\n",
    "for i in ['views','dislikes','likes','comment']:\n",
    "    df = f_to_nan(i,df)"
   ]
  },
  {
   "cell_type": "code",
   "execution_count": 11,
   "metadata": {},
   "outputs": [],
   "source": [
    "#Handling duration variable\n",
    "hr,minut,sec,totalsec = [],[],[],[]\n",
    "\n",
    "for i in df.duration:\n",
    "    i = i.replace('PT','')\n",
    "    i = pd.to_timedelta(i)\n",
    "    hr.append(i.seconds // 3600)\n",
    "    minut.append((i.seconds // 60) % 60)\n",
    "    sec.append(i.seconds % 60)\n",
    "    totalsec.append(i.seconds) "
   ]
  },
  {
   "cell_type": "code",
   "execution_count": 12,
   "metadata": {},
   "outputs": [],
   "source": [
    "#Handling published variable\n",
    "day,mnth,yr = [],[],[]\n",
    "\n",
    "for i in df.published:\n",
    "    i = pd.to_datetime(i)\n",
    "    day.append(i.day)\n",
    "    mnth.append(i.month)\n",
    "    yr.append(i.year)"
   ]
  },
  {
   "cell_type": "code",
   "execution_count": 13,
   "metadata": {},
   "outputs": [],
   "source": [
    "df['hr'] = hr\n",
    "df['minut'] = minut\n",
    "df['sec'] = sec\n",
    "df['totalsec'] = totalsec\n",
    "\n",
    "df['day'] = day\n",
    "df['mnth'] = mnth\n",
    "df['yr'] = yr\n",
    "df = df.drop(['duration','published'],axis = 1)"
   ]
  },
  {
   "cell_type": "code",
   "execution_count": 14,
   "metadata": {},
   "outputs": [],
   "source": [
    "#sns.pairplot(df)\n",
    "#plt.show()"
   ]
  },
  {
   "cell_type": "markdown",
   "metadata": {},
   "source": [
    "#### [ 'Views' ]  'F' value imputation via mean"
   ]
  },
  {
   "cell_type": "code",
   "execution_count": 15,
   "metadata": {},
   "outputs": [
    {
     "name": "stdout",
     "output_type": "stream",
     "text": [
      "NaN =>  3\n",
      "Min = 27.0\t Max =\t225147758.0\t Mean =\t729482\t Median = 157522.5\n"
     ]
    }
   ],
   "source": [
    "# # Filling Views with Mean\n",
    "print('NaN => ',df.views.isnull().sum())\n",
    "print(\"Min = {}\\t Max =\\t{}\\t Mean =\\t{}\\t Median = {}\".format\\\n",
    "      (min(df.views),max(df.views),round(df.views.mean()),df.views.median()))\n",
    "\n",
    "#imputing\n",
    "df.views = df.views.fillna(round(df.views.mean()))"
   ]
  },
  {
   "cell_type": "markdown",
   "metadata": {},
   "source": [
    "#### [ 'Likes' ]  'F' value imputation via random forest"
   ]
  },
  {
   "cell_type": "code",
   "execution_count": 16,
   "metadata": {},
   "outputs": [
    {
     "name": "stdout",
     "output_type": "stream",
     "text": [
      "NaN =>  243\n",
      "Min = 0.0\t Max =\t320072.0\t Mean =\t2815\t Median = 445.0\n"
     ]
    }
   ],
   "source": [
    "## likes // \n",
    "print('NaN => ',df.likes.isnull().sum())\n",
    "print(\"Min = {}\\t Max =\\t{}\\t Mean =\\t{}\\t Median = {}\".format\\\n",
    "      (min(df.likes),max(df.likes),round(df.likes.mean()),df.likes.median()))\n",
    "\n",
    "#here via Randomforest prediction fits best than normal mean or nearest neighbour value or LR with likes and views\n",
    "#as likes can't be more than views "
   ]
  },
  {
   "cell_type": "code",
   "execution_count": 17,
   "metadata": {},
   "outputs": [],
   "source": [
    "#from sklearn.preprocessing import LabelEncoder\n",
    "df['category'] = LabelEncoder().fit_transform(df.category)\n",
    "df['category'] = df.category.astype('object')\n",
    "\n",
    "like_train = df[['category','views','hr', 'minut', 'sec','day', 'mnth', 'yr','likes']].dropna()\n",
    "like_test = df.loc[df.likes.isnull(),['category','views','hr', 'minut', 'sec','day', 'mnth', 'yr','likes','vidid']]\n",
    "\n",
    "#Data \n",
    "X_train_like, y_train_like = like_train.iloc[:,:-1].values, like_train.iloc[:,-1].values\n",
    "X_test_like = like_test.iloc[:,:-2].values\n",
    "\n",
    "\n",
    "#from sklearn.ensemble import RandomForestRegressor\n",
    "def fillna_rf(X_train, y_train,X_test):\n",
    "    rf = RandomForestRegressor(random_state=101,n_jobs=-1).fit(X_train,y_train)\n",
    "    y_pred = rf.predict(X_test)\n",
    "    return y_pred\n",
    "\n",
    "like_test['likes'] = fillna_rf(X_train_like, y_train_like,X_test_like)\n",
    "# # like_test[like_test.views < like_test.likes]  # 0 values\n",
    "\n",
    "#imputing_values\n",
    "lik_vid = like_test.vidid.tolist()\n",
    "for i in lik_vid:\n",
    "    df.loc[df.vidid == i, 'likes'] = like_test.loc[like_test.vidid == i, 'likes']"
   ]
  },
  {
   "cell_type": "markdown",
   "metadata": {},
   "source": [
    "#### [ 'dislikes' ]  ' F ' value imputation via random forest"
   ]
  },
  {
   "cell_type": "code",
   "execution_count": 18,
   "metadata": {},
   "outputs": [
    {
     "name": "stdout",
     "output_type": "stream",
     "text": [
      "NaN =>  243\n",
      "Min = 0.0\t Max =\t49449.0\t Mean =\t259\t Median = 38.0\n"
     ]
    }
   ],
   "source": [
    "## dislikes // views\n",
    "print('NaN => ',df.dislikes.isnull().sum())\n",
    "print(\"Min = {}\\t Max =\\t{}\\t Mean =\\t{}\\t Median = {}\".format\\\n",
    "      (min(df.dislikes),max(df.dislikes),round(df.dislikes.mean()),df.dislikes.median()))"
   ]
  },
  {
   "cell_type": "code",
   "execution_count": 19,
   "metadata": {},
   "outputs": [],
   "source": [
    "# #Imputation\n",
    "dislike_train = df[['category','views','hr', 'minut', 'sec','day', 'mnth', 'yr','likes','dislikes']].dropna()\n",
    "dislike_test = df.loc[df.dislikes.isnull(),\\\n",
    "                                  ['category','views','hr', 'minut', 'sec','day', 'mnth', 'yr','likes','dislikes','vidid']]\n",
    "\n",
    "#Data \n",
    "X_train_dislike, y_train_dislike = dislike_train.iloc[:,:-1].values, dislike_train.iloc[:,-1].values\n",
    "X_test_dislike = dislike_test.iloc[:,:-2].values\n",
    "\n",
    "dislike_test['dislikes'] = fillna_rf(X_train_dislike, y_train_dislike,X_test_dislike)\n",
    "# # dislike_test[dislike_test.views < dislike_test.likes]  # 0 values\n",
    "\n",
    "#imputing_values\n",
    "dislik_vid = dislike_test.vidid.tolist()\n",
    "for i in dislik_vid:\n",
    "    df.loc[df.vidid == i, 'dislikes'] = dislike_test.loc[dislike_test.vidid == i, 'dislikes']"
   ]
  },
  {
   "cell_type": "markdown",
   "metadata": {},
   "source": [
    "#### [ 'comment' ]  ' F ' value imputation via random forest"
   ]
  },
  {
   "cell_type": "code",
   "execution_count": 20,
   "metadata": {},
   "outputs": [
    {
     "name": "stdout",
     "output_type": "stream",
     "text": [
      "NaN =>  384\n",
      "Min = 0.0\t Max =\t85250.0\t Mean =\t430\t Median = 46.0\n"
     ]
    }
   ],
   "source": [
    "## Comment // likes \n",
    "print('NaN => ',df.comment.isnull().sum())\n",
    "print(\"Min = {}\\t Max =\\t{}\\t Mean =\\t{}\\t Median = {}\".format\\\n",
    "      (min(df.comment),max(df.comment),round(df.comment.mean()),df.comment.median()))\n",
    "\n",
    "#min -- view = 27 -- comment == 0  --- likes = 0 --- dislikes = 0 \n",
    "#max -- view = 225147758 -- comment == 85250  --- likes = 320072 --- dislikes = 49449 "
   ]
  },
  {
   "cell_type": "code",
   "execution_count": 21,
   "metadata": {},
   "outputs": [],
   "source": [
    "com_train = df[['category','views','hr', 'minut', 'sec','day', 'mnth', 'yr','likes','dislikes','comment']].dropna()\n",
    "com_test = df.loc[df.comment.isnull(),\\\n",
    "                  ['category','views','hr', 'minut', 'sec','day', 'mnth', 'yr','likes','dislikes','comment','vidid']]\n",
    "\n",
    "#Data \n",
    "X_train_com, y_train_com = com_train.iloc[:,:-1].values, com_train.iloc[:,-1].values\n",
    "X_test_com = com_test.iloc[:,:-2].values\n",
    "\n",
    "com_test['comment'] = fillna_rf(X_train_com, y_train_com,X_test_com)\n",
    "# # com_test[com_test.views < com_test.likes]  # 0 values\n",
    "\n",
    "#imputing_values\n",
    "com_vid = com_test.vidid.tolist()\n",
    "for i in com_vid:\n",
    "    df.loc[df.vidid == i, 'comment'] = com_test.loc[com_test.vidid == i, 'comment']"
   ]
  },
  {
   "cell_type": "code",
   "execution_count": 22,
   "metadata": {},
   "outputs": [
    {
     "data": {
      "text/html": [
       "<div>\n",
       "<style scoped>\n",
       "    .dataframe tbody tr th:only-of-type {\n",
       "        vertical-align: middle;\n",
       "    }\n",
       "\n",
       "    .dataframe tbody tr th {\n",
       "        vertical-align: top;\n",
       "    }\n",
       "\n",
       "    .dataframe thead th {\n",
       "        text-align: right;\n",
       "    }\n",
       "</style>\n",
       "<table border=\"1\" class=\"dataframe\">\n",
       "  <thead>\n",
       "    <tr style=\"text-align: right;\">\n",
       "      <th></th>\n",
       "      <th>adview</th>\n",
       "      <th>category</th>\n",
       "      <th>comment</th>\n",
       "      <th>dislikes</th>\n",
       "      <th>likes</th>\n",
       "      <th>vidid</th>\n",
       "      <th>views</th>\n",
       "      <th>hr</th>\n",
       "      <th>minut</th>\n",
       "      <th>sec</th>\n",
       "      <th>totalsec</th>\n",
       "      <th>day</th>\n",
       "      <th>mnth</th>\n",
       "      <th>yr</th>\n",
       "      <th>watch</th>\n",
       "    </tr>\n",
       "  </thead>\n",
       "  <tbody>\n",
       "    <tr>\n",
       "      <th>0</th>\n",
       "      <td>40.0</td>\n",
       "      <td>5</td>\n",
       "      <td>1095.0</td>\n",
       "      <td>363.0</td>\n",
       "      <td>8523.0</td>\n",
       "      <td>VID_18655</td>\n",
       "      <td>1031602.0</td>\n",
       "      <td>0</td>\n",
       "      <td>7</td>\n",
       "      <td>37</td>\n",
       "      <td>457</td>\n",
       "      <td>14</td>\n",
       "      <td>9</td>\n",
       "      <td>2016</td>\n",
       "      <td>1021621.0</td>\n",
       "    </tr>\n",
       "    <tr>\n",
       "      <th>1</th>\n",
       "      <td>2.0</td>\n",
       "      <td>3</td>\n",
       "      <td>6.0</td>\n",
       "      <td>2.0</td>\n",
       "      <td>56.0</td>\n",
       "      <td>VID_14135</td>\n",
       "      <td>1707.0</td>\n",
       "      <td>0</td>\n",
       "      <td>9</td>\n",
       "      <td>30</td>\n",
       "      <td>570</td>\n",
       "      <td>1</td>\n",
       "      <td>10</td>\n",
       "      <td>2016</td>\n",
       "      <td>1643.0</td>\n",
       "    </tr>\n",
       "    <tr>\n",
       "      <th>2</th>\n",
       "      <td>1.0</td>\n",
       "      <td>2</td>\n",
       "      <td>2.0</td>\n",
       "      <td>0.0</td>\n",
       "      <td>25.0</td>\n",
       "      <td>VID_2187</td>\n",
       "      <td>2023.0</td>\n",
       "      <td>0</td>\n",
       "      <td>2</td>\n",
       "      <td>16</td>\n",
       "      <td>136</td>\n",
       "      <td>2</td>\n",
       "      <td>7</td>\n",
       "      <td>2016</td>\n",
       "      <td>1996.0</td>\n",
       "    </tr>\n",
       "    <tr>\n",
       "      <th>3</th>\n",
       "      <td>6.0</td>\n",
       "      <td>7</td>\n",
       "      <td>153.0</td>\n",
       "      <td>161.0</td>\n",
       "      <td>777.0</td>\n",
       "      <td>VID_23096</td>\n",
       "      <td>620860.0</td>\n",
       "      <td>0</td>\n",
       "      <td>4</td>\n",
       "      <td>22</td>\n",
       "      <td>262</td>\n",
       "      <td>27</td>\n",
       "      <td>7</td>\n",
       "      <td>2016</td>\n",
       "      <td>619769.0</td>\n",
       "    </tr>\n",
       "    <tr>\n",
       "      <th>4</th>\n",
       "      <td>1.0</td>\n",
       "      <td>3</td>\n",
       "      <td>0.0</td>\n",
       "      <td>0.0</td>\n",
       "      <td>1.0</td>\n",
       "      <td>VID_10175</td>\n",
       "      <td>666.0</td>\n",
       "      <td>0</td>\n",
       "      <td>0</td>\n",
       "      <td>31</td>\n",
       "      <td>31</td>\n",
       "      <td>29</td>\n",
       "      <td>6</td>\n",
       "      <td>2016</td>\n",
       "      <td>665.0</td>\n",
       "    </tr>\n",
       "  </tbody>\n",
       "</table>\n",
       "</div>"
      ],
      "text/plain": [
       "   adview category  comment  dislikes   likes      vidid      views  hr  \\\n",
       "0    40.0        5   1095.0     363.0  8523.0  VID_18655  1031602.0   0   \n",
       "1     2.0        3      6.0       2.0    56.0  VID_14135     1707.0   0   \n",
       "2     1.0        2      2.0       0.0    25.0   VID_2187     2023.0   0   \n",
       "3     6.0        7    153.0     161.0   777.0  VID_23096   620860.0   0   \n",
       "4     1.0        3      0.0       0.0     1.0  VID_10175      666.0   0   \n",
       "\n",
       "   minut  sec  totalsec  day  mnth    yr      watch  \n",
       "0      7   37       457   14     9  2016  1021621.0  \n",
       "1      9   30       570    1    10  2016     1643.0  \n",
       "2      2   16       136    2     7  2016     1996.0  \n",
       "3      4   22       262   27     7  2016   619769.0  \n",
       "4      0   31        31   29     6  2016      665.0  "
      ]
     },
     "execution_count": 22,
     "metadata": {},
     "output_type": "execute_result"
    }
   ],
   "source": [
    "df['watch'] = df.views - (df.comment + df.likes + df.dislikes)\n",
    "df.head()"
   ]
  },
  {
   "cell_type": "code",
   "execution_count": 23,
   "metadata": {},
   "outputs": [],
   "source": [
    "#Changing Float data types to int\n",
    "for i in ['comment','dislikes','likes','views','watch']:\n",
    "    df[i] = df[i].astype(np.int64)\n",
    "    \n",
    "for i in ['hr','mnth','yr','category']:\n",
    "    df[i] = df[i].astype(str)"
   ]
  },
  {
   "cell_type": "markdown",
   "metadata": {},
   "source": [
    "-------------\n",
    "-------------------"
   ]
  },
  {
   "cell_type": "code",
   "execution_count": 24,
   "metadata": {},
   "outputs": [
    {
     "data": {
      "image/png": "[encoded data removed]",
      "text/plain": [
       "<Figure size 720x432 with 1 Axes>"
      ]
     },
     "metadata": {
      "needs_background": "light"
     },
     "output_type": "display_data"
    }
   ],
   "source": [
    "#Categorical Variable data distribution\n",
    "plt.figure(figsize=(10,6))\n",
    "sns.countplot(x = df.category,palette='muted')\n",
    "plt.xlabel('Category Distribution', fontsize= 15)\n",
    "plt.ylabel('Count', fontsize= 15)\n",
    "plt.title(\"Distribution of Category valiable in complete data\",fontsize= 20)\n",
    "plt.show()"
   ]
  },
  {
   "cell_type": "code",
   "execution_count": 25,
   "metadata": {},
   "outputs": [
    {
     "data": {
      "image/png": "[encoded data removed]",
      "text/plain": [
       "<Figure size 720x432 with 1 Axes>"
      ]
     },
     "metadata": {
      "needs_background": "light"
     },
     "output_type": "display_data"
    }
   ],
   "source": [
    "#Categorical Variable data distribution\n",
    "plt.figure(figsize=(10,6))\n",
    "sns.countplot(x = df_test.category,palette='muted')\n",
    "plt.xlabel('Category Distribution', fontsize= 15)\n",
    "plt.ylabel('Count', fontsize= 15)\n",
    "plt.title(\"Distribution of Category variable in test data\",fontsize= 20)\n",
    "plt.show()"
   ]
  },
  {
   "cell_type": "code",
   "execution_count": 26,
   "metadata": {},
   "outputs": [],
   "source": [
    "#Relationational bar graph for checking data distribution\n",
    "def diff_bar(x,y):\n",
    "    df.groupby([x,y]).size().unstack(level=-1).plot(kind='bar', figsize=(30,10))\n",
    "    plt.xlabel(x,fontsize= 25)\n",
    "    plt.ylabel('count',fontsize= 25)\n",
    "    plt.legend(loc=0,fontsize= 25)\n",
    "    plt.xticks(fontsize=20, rotation=90)\n",
    "    plt.yticks(fontsize=20)\n",
    "    plt.title(\"{X} Vs {Y}\".format(X=x,Y=y),fontsize = 40)\n",
    "    #plt.savefig(\"{X}_Vs_{Y}.png\".format(X=x,Y=y))\n",
    "    plt.show()"
   ]
  },
  {
   "cell_type": "code",
   "execution_count": 27,
   "metadata": {},
   "outputs": [
    {
     "data": {
      "image/png": "[encoded data removed]",
      "text/plain": [
       "<Figure size 2160x720 with 1 Axes>"
      ]
     },
     "metadata": {
      "needs_background": "light"
     },
     "output_type": "display_data"
    }
   ],
   "source": [
    "diff_bar('yr','category')"
   ]
  },
  {
   "cell_type": "code",
   "execution_count": 28,
   "metadata": {},
   "outputs": [
    {
     "data": {
      "image/png": "[encoded data removed]",
      "text/plain": [
       "<Figure size 2160x720 with 1 Axes>"
      ]
     },
     "metadata": {
      "needs_background": "light"
     },
     "output_type": "display_data"
    }
   ],
   "source": [
    "diff_bar('mnth','category')"
   ]
  },
  {
   "cell_type": "code",
   "execution_count": 29,
   "metadata": {},
   "outputs": [
    {
     "data": {
      "image/png": "[encoded data removed]",
      "text/plain": [
       "<Figure size 2160x720 with 1 Axes>"
      ]
     },
     "metadata": {
      "needs_background": "light"
     },
     "output_type": "display_data"
    }
   ],
   "source": [
    "diff_bar('hr','category')"
   ]
  },
  {
   "cell_type": "code",
   "execution_count": 30,
   "metadata": {},
   "outputs": [
    {
     "data": {
      "image/png": "[encoded data removed]",
      "text/plain": [
       "<Figure size 2160x720 with 1 Axes>"
      ]
     },
     "metadata": {
      "needs_background": "light"
     },
     "output_type": "display_data"
    }
   ],
   "source": [
    "#Relationational bar graph for checking data distribution\n",
    "def diff_bar(x,y):\n",
    "    df.groupby([x,y]).size().unstack(level=-1).plot(kind='bar', figsize=(30,10))\n",
    "    plt.xlabel(x,fontsize= 25)\n",
    "    plt.ylabel('count',fontsize= 25)\n",
    "    plt.xlim(0.5,11.5)\n",
    "    plt.legend(loc=0,fontsize= 25)\n",
    "    plt.xticks(fontsize=20, rotation=90)\n",
    "    plt.yticks(fontsize=20)\n",
    "    plt.title(\"{X} Vs {Y}\".format(X=x,Y=y),fontsize = 40)\n",
    "    #plt.savefig(\"{X}_Vs_{Y}.png\".format(X=x,Y=y))\n",
    "    plt.show()\n",
    "diff_bar('minut','category')    "
   ]
  },
  {
   "cell_type": "code",
   "execution_count": 31,
   "metadata": {},
   "outputs": [],
   "source": [
    "train = df[['vidid','category','comment','totalsec','dislikes','likes','views','watch','hr','minut','sec','day','mnth','yr','adview']].dropna()\n",
    "test = df.loc[df.adview.isnull(),['vidid','category','comment','totalsec','dislikes','likes','views','watch','hr','minut','sec','day','mnth','yr']]\n",
    "\n",
    "train.adview = train.adview.astype(np.int64)"
   ]
  },
  {
   "cell_type": "markdown",
   "metadata": {},
   "source": [
    "_____________"
   ]
  },
  {
   "cell_type": "markdown",
   "metadata": {},
   "source": [
    "### Outliers Analysis"
   ]
  },
  {
   "cell_type": "code",
   "execution_count": 32,
   "metadata": {},
   "outputs": [],
   "source": [
    "# for i in ['views','likes','dislikes','comment','watch']:\n",
    "#     test[i].plot()\n",
    "#     plt.show()"
   ]
  },
  {
   "cell_type": "code",
   "execution_count": 33,
   "metadata": {
    "scrolled": true
   },
   "outputs": [
    {
     "data": {
      "image/png": "[encoded data removed]",
      "text/plain": [
       "<Figure size 432x288 with 1 Axes>"
      ]
     },
     "metadata": {
      "needs_background": "light"
     },
     "output_type": "display_data"
    },
    {
     "data": {
      "image/png": "[encoded data removed]",
      "text/plain": [
       "<Figure size 432x288 with 1 Axes>"
      ]
     },
     "metadata": {
      "needs_background": "light"
     },
     "output_type": "display_data"
    },
    {
     "data": {
      "image/png": "[encoded data removed]",
      "text/plain": [
       "<Figure size 432x288 with 1 Axes>"
      ]
     },
     "metadata": {
      "needs_background": "light"
     },
     "output_type": "display_data"
    },
    {
     "data": {
      "image/png": "[encoded data removed]",
      "text/plain": [
       "<Figure size 432x288 with 1 Axes>"
      ]
     },
     "metadata": {
      "needs_background": "light"
     },
     "output_type": "display_data"
    },
    {
     "data": {
      "image/png": "[encoded data removed]",
      "text/plain": [
       "<Figure size 432x288 with 1 Axes>"
      ]
     },
     "metadata": {
      "needs_background": "light"
     },
     "output_type": "display_data"
    },
    {
     "data": {
      "image/png": "[encoded data removed]",
      "text/plain": [
       "<Figure size 432x288 with 1 Axes>"
      ]
     },
     "metadata": {
      "needs_background": "light"
     },
     "output_type": "display_data"
    }
   ],
   "source": [
    "#Checking spread of data with respect to target variable outliers\n",
    "for i in ['views','likes','dislikes','comment','watch']:\n",
    "    plt.scatter(x=train[i], y=train.adview)\n",
    "    plt.xlabel(i)\n",
    "    plt.ylabel('adview')\n",
    "    plt.show()\n",
    "    \n",
    "sns.boxplot(x='category', y=\"adview\", data=train)\n",
    "plt.title('outlier w.r.t adview & category')\n",
    "plt.show()"
   ]
  },
  {
   "cell_type": "markdown",
   "metadata": {},
   "source": [
    "We can see that there are some points which are extremly large or extremely low // will treat them as outlier"
   ]
  },
  {
   "cell_type": "code",
   "execution_count": 34,
   "metadata": {},
   "outputs": [],
   "source": [
    "#manual removal\n",
    "train = train.drop(train[train.adview > 5000000].index) #an huge outlier\n",
    "\n",
    "#Treating Out Liers and Converting them with mean\n",
    "for i in ['comment','dislikes','likes','views']:\n",
    "    #print(i)\n",
    "    q95, q5 = np.percentile(train.loc[:,i], [95 ,5])\n",
    "    iqr = q95 - q5\n",
    "    minn = q5 - (iqr*1.5)\n",
    "    maxx = q95 + (iqr*1.5)\n",
    "#Converting to mean value\n",
    "    train.loc[train.loc[:,i] < minn,i] = round(train[i].mean())\n",
    "    train.loc[train.loc[:,i] > maxx,i] = round(train[i].mean())"
   ]
  },
  {
   "cell_type": "code",
   "execution_count": 35,
   "metadata": {
    "scrolled": true
   },
   "outputs": [],
   "source": [
    "# #Checking spread of data with respect to target variable after outliers\n",
    "# for i in ['views','likes','dislikes','comment']:\n",
    "#     plt.scatter(x=train[i], y=train.adview)\n",
    "#     plt.xlabel(i)\n",
    "#     plt.ylabel('adview')\n",
    "#     plt.show()\n",
    "    \n",
    "# sns.boxplot(x='category', y=\"adview\", data=train)\n",
    "# plt.title('outlier w.r.t adview & category')\n",
    "# plt.show()"
   ]
  },
  {
   "cell_type": "code",
   "execution_count": 36,
   "metadata": {},
   "outputs": [
    {
     "name": "stdout",
     "output_type": "stream",
     "text": [
      "['comment', 'totalsec', 'dislikes', 'likes', 'views', 'watch', 'minut', 'sec', 'day', 'adview']\n"
     ]
    }
   ],
   "source": [
    "#All continous var list\n",
    "cname = train.columns[(train.dtypes==\"int64\")].tolist()\n",
    "print(cname)"
   ]
  },
  {
   "cell_type": "markdown",
   "metadata": {},
   "source": [
    "# Feature Selecton"
   ]
  },
  {
   "cell_type": "markdown",
   "metadata": {},
   "source": [
    "### 1.Correlation Analysis"
   ]
  },
  {
   "cell_type": "code",
   "execution_count": 37,
   "metadata": {},
   "outputs": [
    {
     "data": {
      "image/png": "[encoded data removed]",
      "text/plain": [
       "<Figure size 720x576 with 2 Axes>"
      ]
     },
     "metadata": {
      "needs_background": "light"
     },
     "output_type": "display_data"
    }
   ],
   "source": [
    "#Setting up the pane or matrix size\n",
    "f, ax = plt.subplots(figsize=(10,8))  #Width,height\n",
    "\n",
    "#Generating Corelation Matrix\n",
    "corr = train[cname].corr()\n",
    "\n",
    "#Plot using Seaborn library\n",
    "sns.heatmap(corr,mask=np.zeros_like(corr, dtype=np.bool), cmap=sns.diverging_palette(220,10, as_cmap=True),\\\n",
    "            square=True, ax=ax,annot=True,linewidths=1 , linecolor= 'black',vmin = -1, vmax = 1)\n",
    "\n",
    "plt.show()\n",
    "#f.savefig('heatmap.png')"
   ]
  },
  {
   "cell_type": "markdown",
   "metadata": {},
   "source": [
    "Not so Highly correlated variables present"
   ]
  },
  {
   "cell_type": "code",
   "execution_count": 38,
   "metadata": {},
   "outputs": [],
   "source": [
    "#removing _vidid colum\n",
    "train = train.drop(['vidid','hr'],axis = 1)\n",
    "test = test.drop('hr',axis = 1)"
   ]
  },
  {
   "cell_type": "code",
   "execution_count": 39,
   "metadata": {},
   "outputs": [],
   "source": [
    "#add mnth,sec,day\n",
    "for i in ['minut','sec','day']:\n",
    "    train[i] = train[i].astype(str)\n",
    "    test[i] = test[i].astype(str)"
   ]
  },
  {
   "cell_type": "code",
   "execution_count": 40,
   "metadata": {},
   "outputs": [
    {
     "name": "stdout",
     "output_type": "stream",
     "text": [
      "['category', 'minut', 'sec', 'day', 'mnth', 'yr']\n",
      "\n",
      "['comment', 'totalsec', 'dislikes', 'likes', 'views', 'watch', 'adview']\n"
     ]
    },
    {
     "data": {
      "text/html": [
       "<div>\n",
       "<style scoped>\n",
       "    .dataframe tbody tr th:only-of-type {\n",
       "        vertical-align: middle;\n",
       "    }\n",
       "\n",
       "    .dataframe tbody tr th {\n",
       "        vertical-align: top;\n",
       "    }\n",
       "\n",
       "    .dataframe thead th {\n",
       "        text-align: right;\n",
       "    }\n",
       "</style>\n",
       "<table border=\"1\" class=\"dataframe\">\n",
       "  <thead>\n",
       "    <tr style=\"text-align: right;\">\n",
       "      <th></th>\n",
       "      <th>category</th>\n",
       "      <th>comment</th>\n",
       "      <th>totalsec</th>\n",
       "      <th>dislikes</th>\n",
       "      <th>likes</th>\n",
       "      <th>views</th>\n",
       "      <th>watch</th>\n",
       "      <th>minut</th>\n",
       "      <th>sec</th>\n",
       "      <th>day</th>\n",
       "      <th>mnth</th>\n",
       "      <th>yr</th>\n",
       "      <th>adview</th>\n",
       "    </tr>\n",
       "  </thead>\n",
       "  <tbody>\n",
       "    <tr>\n",
       "      <th>0</th>\n",
       "      <td>5</td>\n",
       "      <td>1095</td>\n",
       "      <td>457</td>\n",
       "      <td>363</td>\n",
       "      <td>8523</td>\n",
       "      <td>1031602</td>\n",
       "      <td>1021621</td>\n",
       "      <td>7</td>\n",
       "      <td>37</td>\n",
       "      <td>14</td>\n",
       "      <td>9</td>\n",
       "      <td>2016</td>\n",
       "      <td>40</td>\n",
       "    </tr>\n",
       "  </tbody>\n",
       "</table>\n",
       "</div>"
      ],
      "text/plain": [
       "  category  comment  totalsec  dislikes  likes    views    watch minut sec  \\\n",
       "0        5     1095       457       363   8523  1031602  1021621     7  37   \n",
       "\n",
       "  day mnth    yr  adview  \n",
       "0  14    9  2016      40  "
      ]
     },
     "execution_count": 40,
     "metadata": {},
     "output_type": "execute_result"
    }
   ],
   "source": [
    "print(train.select_dtypes(exclude=np.number).columns.tolist())\n",
    "print()\n",
    "print(train.select_dtypes(include=np.number).columns.tolist())\n",
    "train.head(1)"
   ]
  },
  {
   "cell_type": "code",
   "execution_count": 41,
   "metadata": {},
   "outputs": [],
   "source": [
    "# def dummy_func(df):\n",
    "#     #Extracting all object var\n",
    "#     cat_names = df.select_dtypes(exclude=np.number).columns.tolist()\n",
    "    \n",
    "#     ##Creating Dummies\n",
    "#     for i in cat_names:\n",
    "#         dummies = pd.get_dummies(df[i], prefix= i, dummy_na=False)\n",
    "#         df = df.drop(i, 1)\n",
    "#         df = pd.concat([df, dummies],axis = 1)\n",
    "        \n",
    "#     #Converting back to object\n",
    "#     for i in df.columns:\n",
    "#         if df[i].dtypes == 'uint8':\n",
    "#             df[i] = df[i].astype('object')\n",
    "#     return df\n",
    "\n",
    "\n",
    "# train_x = pd.DataFrame(train.iloc[:,:-1])\n",
    "# train_y = train['adview']\n",
    "# train = dummy_func(train_x)\n",
    "# train = pd.concat([train, train_y],axis = 1)"
   ]
  },
  {
   "cell_type": "code",
   "execution_count": 42,
   "metadata": {},
   "outputs": [
    {
     "name": "stdout",
     "output_type": "stream",
     "text": [
      "(14998, 13)\n"
     ]
    }
   ],
   "source": [
    "print(train.shape)"
   ]
  },
  {
   "cell_type": "markdown",
   "metadata": {},
   "source": [
    "###  Scaling"
   ]
  },
  {
   "cell_type": "code",
   "execution_count": 43,
   "metadata": {},
   "outputs": [],
   "source": [
    "# for i in cname:\n",
    "#     train[i].plot(title = i)\n",
    "#     plt.show()"
   ]
  },
  {
   "cell_type": "code",
   "execution_count": 44,
   "metadata": {},
   "outputs": [],
   "source": [
    "# train[cname].hist(figsize=(20,20),color='g',alpha = 0.7)\n",
    "# plt.show()"
   ]
  },
  {
   "cell_type": "code",
   "execution_count": 45,
   "metadata": {},
   "outputs": [
    {
     "data": {
      "text/html": [
       "<div>\n",
       "<style scoped>\n",
       "    .dataframe tbody tr th:only-of-type {\n",
       "        vertical-align: middle;\n",
       "    }\n",
       "\n",
       "    .dataframe tbody tr th {\n",
       "        vertical-align: top;\n",
       "    }\n",
       "\n",
       "    .dataframe thead th {\n",
       "        text-align: right;\n",
       "    }\n",
       "</style>\n",
       "<table border=\"1\" class=\"dataframe\">\n",
       "  <thead>\n",
       "    <tr style=\"text-align: right;\">\n",
       "      <th></th>\n",
       "      <th>category</th>\n",
       "      <th>comment</th>\n",
       "      <th>totalsec</th>\n",
       "      <th>dislikes</th>\n",
       "      <th>likes</th>\n",
       "      <th>views</th>\n",
       "      <th>watch</th>\n",
       "      <th>minut</th>\n",
       "      <th>sec</th>\n",
       "      <th>day</th>\n",
       "      <th>mnth</th>\n",
       "      <th>yr</th>\n",
       "      <th>adview</th>\n",
       "    </tr>\n",
       "  </thead>\n",
       "  <tbody>\n",
       "    <tr>\n",
       "      <th>0</th>\n",
       "      <td>5</td>\n",
       "      <td>1.395361</td>\n",
       "      <td>-0.254571</td>\n",
       "      <td>0.521004</td>\n",
       "      <td>1.570384</td>\n",
       "      <td>0.558394</td>\n",
       "      <td>0.114827</td>\n",
       "      <td>7</td>\n",
       "      <td>37</td>\n",
       "      <td>14</td>\n",
       "      <td>9</td>\n",
       "      <td>2016</td>\n",
       "      <td>40</td>\n",
       "    </tr>\n",
       "    <tr>\n",
       "      <th>1</th>\n",
       "      <td>3</td>\n",
       "      <td>-0.443683</td>\n",
       "      <td>-0.205726</td>\n",
       "      <td>-0.489137</td>\n",
       "      <td>-0.480251</td>\n",
       "      <td>-0.562746</td>\n",
       "      <td>-0.260680</td>\n",
       "      <td>9</td>\n",
       "      <td>30</td>\n",
       "      <td>1</td>\n",
       "      <td>10</td>\n",
       "      <td>2016</td>\n",
       "      <td>2</td>\n",
       "    </tr>\n",
       "  </tbody>\n",
       "</table>\n",
       "</div>"
      ],
      "text/plain": [
       "  category   comment  totalsec  dislikes     likes     views     watch minut  \\\n",
       "0        5  1.395361 -0.254571  0.521004  1.570384  0.558394  0.114827     7   \n",
       "1        3 -0.443683 -0.205726 -0.489137 -0.480251 -0.562746 -0.260680     9   \n",
       "\n",
       "  sec day mnth    yr  adview  \n",
       "0  37  14    9  2016      40  \n",
       "1  30   1   10  2016       2  "
      ]
     },
     "execution_count": 45,
     "metadata": {},
     "output_type": "execute_result"
    }
   ],
   "source": [
    "cname = train.columns[(train.dtypes==\"int64\")].tolist()\n",
    "cname.remove('adview')\n",
    "\n",
    "def scale_standard(df):\n",
    "    for i in cname:\n",
    "        #print(i)\n",
    "        df[i] = (df[i] - df[i].mean())/df[i].std()\n",
    "    return df\n",
    "\n",
    "train = scale_standard(train)\n",
    "test = scale_standard(test)\n",
    "\n",
    "#print(train.columns.tolist())\n",
    "#print(train.shape)\n",
    "train.head(2)"
   ]
  },
  {
   "cell_type": "markdown",
   "metadata": {},
   "source": [
    "## Best feature"
   ]
  },
  {
   "cell_type": "code",
   "execution_count": 46,
   "metadata": {},
   "outputs": [],
   "source": [
    "# from sklearn.model_selection import train_test_split,GridSearchCV,cross_val_score\n",
    "# from sklearn.feature_selection import SelectKBest,f_regression\n",
    "# X, y = train.iloc[:,:-1], train.iloc[:,-1]\n",
    "# X_new = SelectKBest(f_regression, k=10).fit_transform(X, y)\n",
    "# X_train, X_test, y_train, y_test = train_test_split(X_new,y,test_size=0.20,random_state=101)"
   ]
  },
  {
   "cell_type": "markdown",
   "metadata": {},
   "source": [
    "### Validation Sampling"
   ]
  },
  {
   "cell_type": "code",
   "execution_count": 47,
   "metadata": {},
   "outputs": [],
   "source": [
    "from sklearn.model_selection import train_test_split,cross_val_score\n",
    "\n",
    "X_train, X_test, y_train, y_test = train_test_split(train.iloc[:,:-1],\n",
    "                                                    train.iloc[:,-1],\n",
    "                                                    test_size=0.20,\n",
    "                                                    random_state=101)"
   ]
  },
  {
   "cell_type": "markdown",
   "metadata": {},
   "source": [
    "# PCA\n"
   ]
  },
  {
   "cell_type": "code",
   "execution_count": 48,
   "metadata": {},
   "outputs": [],
   "source": [
    "# from sklearn.decomposition import PCA\n",
    "\n",
    "# pca = PCA(n_components=7)\n",
    "# X_train = pca.fit_transform(X_train)\n",
    "# X_test = pca.fit_transform(X_test)\n",
    "\n",
    "# #Cumilative explained variance of the different coponents\n",
    "# explained_variance = pca.explained_variance_ratio_\n",
    "\n",
    "# explained_variance"
   ]
  },
  {
   "cell_type": "markdown",
   "metadata": {},
   "source": [
    "### Modeling"
   ]
  },
  {
   "cell_type": "code",
   "execution_count": 49,
   "metadata": {},
   "outputs": [],
   "source": [
    "from sklearn import metrics\n",
    "\n",
    "def results(y_test,y_pred):\n",
    "    print('R2 score ==>  ', round(metrics.r2_score(y_test, y_pred), 2))\n",
    "    print(('Mean absolute percentage error ==>  {} % ').format(round(np.mean(np.abs((y_test - y_pred) / y_test))*100, 2)))\n",
    "    print('Mean Squared Error ==>  ', round(metrics.mean_squared_error(y_test, y_pred), 2))\n",
    "    print('Root Mean Squared Error ==> ', round(np.sqrt(metrics.mean_squared_error(y_test, y_pred)), 2))\n",
    "\n",
    "def cross_val(model):\n",
    "    acc = cross_val_score(model, X_train, y_train, cv=10,scoring='r2',n_jobs=-1,)\n",
    "    print('Mean Score of Cross validation = ',round(acc.mean(),2))\n",
    "    print('Standard Deviation of CV = ',round(acc.std(),2))    \n",
    "    \n",
    "def test_scores(model):\n",
    "    print('<<<------------------- Training Data Score --------------------->')\n",
    "    print()\n",
    "    #Predicting result on Training data\n",
    "    y_pred = model.predict(X_train)\n",
    "    results(y_train,y_pred)\n",
    "    print()\n",
    "    print('<<<------------------- Test Data Score --------------------->')\n",
    "    print()\n",
    "    # Evaluating on Test Set\n",
    "    y_pred = model.predict(X_test)\n",
    "    results(y_test,y_pred)"
   ]
  },
  {
   "cell_type": "markdown",
   "metadata": {},
   "source": [
    "# Linear regression"
   ]
  },
  {
   "cell_type": "code",
   "execution_count": 50,
   "metadata": {},
   "outputs": [
    {
     "name": "stdout",
     "output_type": "stream",
     "text": [
      "<<<------------------- Training Data Score --------------------->\n",
      "\n",
      "R2 score ==>   0.01\n",
      "Mean absolute percentage error ==>  110530.85 % \n",
      "Mean Squared Error ==>   643631162.2\n",
      "Root Mean Squared Error ==>  25369.89\n",
      "\n",
      "<<<------------------- Test Data Score --------------------->\n",
      "\n",
      "R2 score ==>   0.0\n",
      "Mean absolute percentage error ==>  111536.23 % \n",
      "Mean Squared Error ==>   1300917212.86\n",
      "Root Mean Squared Error ==>  36068.23\n",
      "---------\n"
     ]
    }
   ],
   "source": [
    "#from sklearn.linear_model import LinearRegression\n",
    "\n",
    "linear_model = LinearRegression().fit(X_train,y_train)\n",
    "test_scores(linear_model)\n",
    "print('---------')\n",
    "\n",
    "#cross_val(linear_model)\n",
    "# # Mean Score of Cross validation =  -0.01\n",
    "# # Standard Deviation of CV =  0.02"
   ]
  },
  {
   "cell_type": "markdown",
   "metadata": {},
   "source": [
    "### Decision Tree"
   ]
  },
  {
   "cell_type": "code",
   "execution_count": 51,
   "metadata": {},
   "outputs": [
    {
     "name": "stdout",
     "output_type": "stream",
     "text": [
      "<<<------------------- Training Data Score --------------------->\n",
      "\n",
      "R2 score ==>   1.0\n",
      "Mean absolute percentage error ==>  0.0 % \n",
      "Mean Squared Error ==>   0.0\n",
      "Root Mean Squared Error ==>  0.0\n",
      "\n",
      "<<<------------------- Test Data Score --------------------->\n",
      "\n",
      "R2 score ==>   -0.25\n",
      "Mean absolute percentage error ==>  71962.04 % \n",
      "Mean Squared Error ==>   1636352627.37\n",
      "Root Mean Squared Error ==>  40451.86\n",
      "-------\n"
     ]
    }
   ],
   "source": [
    "from sklearn.tree import DecisionTreeRegressor\n",
    "\n",
    "tree_model = DecisionTreeRegressor(random_state=101).fit(X_train,y_train)\n",
    "test_scores(tree_model)\n",
    "\n",
    "print('-------')\n",
    "\n",
    "#cross_val(tree_model)\n",
    "# # Mean Score of Cross validation =  -2.03\n",
    "# # Standard Deviation of CV =  3.73"
   ]
  },
  {
   "cell_type": "markdown",
   "metadata": {},
   "source": [
    "### RF"
   ]
  },
  {
   "cell_type": "code",
   "execution_count": 52,
   "metadata": {},
   "outputs": [
    {
     "name": "stdout",
     "output_type": "stream",
     "text": [
      "<<<------------------- Training Data Score --------------------->\n",
      "\n",
      "R2 score ==>   0.86\n",
      "Mean absolute percentage error ==>  31603.2 % \n",
      "Mean Squared Error ==>   91748944.38\n",
      "Root Mean Squared Error ==>  9578.57\n",
      "\n",
      "<<<------------------- Test Data Score --------------------->\n",
      "\n",
      "R2 score ==>   0.05\n",
      "Mean absolute percentage error ==>  80450.68 % \n",
      "Mean Squared Error ==>   1243723686.04\n",
      "Root Mean Squared Error ==>  35266.47\n",
      "--------\n"
     ]
    }
   ],
   "source": [
    "#from sklearn.ensemble import RandomForestRegressor\n",
    "\n",
    "#forest_model = RandomForestRegressor(max_depth= 15, max_features = 'sqrt',n_estimators = 500,random_state=101,n_jobs = -1).fit(X_train,y_train)\n",
    "\n",
    "forest_model = RandomForestRegressor(n_estimators=500, random_state=101,n_jobs = -1).fit(X_train,y_train)\n",
    "test_scores(forest_model)\n",
    "\n",
    "print('--------')\n",
    "#cross_val(forest_model)\n",
    "\n",
    "# # Mean Score of Cross validation =  0.07\n",
    "# # Standard Deviation of CV =  0.23"
   ]
  },
  {
   "cell_type": "code",
   "execution_count": 53,
   "metadata": {},
   "outputs": [],
   "source": [
    "#Tried this aproch but result was merly equal to Random forest result so commented\n",
    "\n",
    "# from sklearn.linear_model import Ridge,Lasso\n",
    "# tree = DecisionTreeRegressor().fit(X_train,y_train)\n",
    "# rf1 = RandomForestRegressor(n_estimators=500, n_jobs = -1).fit(X_train,y_train)\n",
    "# rf2 = RandomForestRegressor(n_estimators=1000, min_samples_leaf=150, max_depth=5, n_jobs = -1).fit(X_train,y_train)\n",
    "# rf3 = RandomForestRegressor(n_estimators=10,max_features=3, min_samples_split=4,n_jobs = -1).fit(X_train,y_train)\n",
    "# rf3 = RandomForestRegressor(n_estimators=300,max_depth=8,n_jobs = -1).fit(X_train,y_train)\n",
    "# svr1 = SVR().fit(X_train,y_train)\n",
    "# rdg = Ridge().fit(X_train,y_train)\n",
    "# laso = Lasso().fit(X_train,y_train)\n",
    "# model = {'tree':tree,'rf1':rf1,'rf2':rf2,'rf3':rf3,'svr1':svr1,'rdg':rdg,'lasso':laso}\n",
    "\n",
    "# y_pred = pd.DataFrame()\n",
    "# #pred_li = []\n",
    "# for i in model:\n",
    "#     y_pred[i] = model[i].predict(X_test)\n",
    "# pred = list(round(y_pred.mean(axis = 1)))  \n",
    "\n",
    "# results(y_test,pred)"
   ]
  },
  {
   "cell_type": "markdown",
   "metadata": {},
   "source": [
    "# Random Forest Perform better than all other "
   ]
  },
  {
   "cell_type": "code",
   "execution_count": 54,
   "metadata": {},
   "outputs": [
    {
     "data": {
      "image/png": "[encoded data removed]",
      "text/plain": [
       "<Figure size 1440x1440 with 1 Axes>"
      ]
     },
     "metadata": {
      "needs_background": "light"
     },
     "output_type": "display_data"
    }
   ],
   "source": [
    "#Calculating feature importances\n",
    "importances = forest_model.feature_importances_\n",
    "\n",
    "# Sort feature importances in descending order\n",
    "indices = np.argsort(importances)[::1]\n",
    "\n",
    "# Rearrange feature names so they match the sorted feature importances\n",
    "names = [train.columns[i] for i in indices]\n",
    "\n",
    "# Creating plot\n",
    "fig = plt.figure(figsize=(20,20))\n",
    "plt.title(\"Feature Importance\")\n",
    "\n",
    "# Add horizontal bars\n",
    "plt.barh(range(X_train.shape[1]),importances[indices],align = 'center')\n",
    "plt.yticks(range(X_train.shape[1]), names)\n",
    "plt.show()\n",
    "#fig.savefig('feature_importance.png')"
   ]
  },
  {
   "cell_type": "code",
   "execution_count": 55,
   "metadata": {},
   "outputs": [
    {
     "data": {
      "text/plain": [
       "Index(['category', 'comment', 'totalsec', 'dislikes', 'likes', 'views',\n",
       "       'watch', 'minut', 'sec', 'day', 'mnth', 'yr', 'adview'],\n",
       "      dtype='object')"
      ]
     },
     "execution_count": 55,
     "metadata": {},
     "output_type": "execute_result"
    }
   ],
   "source": [
    "train.columns"
   ]
  },
  {
   "cell_type": "code",
   "execution_count": 56,
   "metadata": {},
   "outputs": [
    {
     "data": {
      "text/plain": [
       "Index(['vidid', 'category', 'comment', 'totalsec', 'dislikes', 'likes',\n",
       "       'views', 'watch', 'minut', 'sec', 'day', 'mnth', 'yr'],\n",
       "      dtype='object')"
      ]
     },
     "execution_count": 56,
     "metadata": {},
     "output_type": "execute_result"
    }
   ],
   "source": [
    "test.columns"
   ]
  },
  {
   "cell_type": "markdown",
   "metadata": {},
   "source": [
    "### Finaly Prediction"
   ]
  },
  {
   "cell_type": "code",
   "execution_count": 57,
   "metadata": {},
   "outputs": [
    {
     "data": {
      "text/html": [
       "<div>\n",
       "<style scoped>\n",
       "    .dataframe tbody tr th:only-of-type {\n",
       "        vertical-align: middle;\n",
       "    }\n",
       "\n",
       "    .dataframe tbody tr th {\n",
       "        vertical-align: top;\n",
       "    }\n",
       "\n",
       "    .dataframe thead th {\n",
       "        text-align: right;\n",
       "    }\n",
       "</style>\n",
       "<table border=\"1\" class=\"dataframe\">\n",
       "  <thead>\n",
       "    <tr style=\"text-align: right;\">\n",
       "      <th></th>\n",
       "      <th>vidid</th>\n",
       "      <th>category</th>\n",
       "      <th>comment</th>\n",
       "      <th>totalsec</th>\n",
       "      <th>dislikes</th>\n",
       "      <th>likes</th>\n",
       "      <th>views</th>\n",
       "      <th>watch</th>\n",
       "      <th>minut</th>\n",
       "      <th>sec</th>\n",
       "      <th>day</th>\n",
       "      <th>mnth</th>\n",
       "      <th>yr</th>\n",
       "      <th>ad_view</th>\n",
       "    </tr>\n",
       "  </thead>\n",
       "  <tbody>\n",
       "    <tr>\n",
       "      <th>0</th>\n",
       "      <td>VID_1054</td>\n",
       "      <td>1</td>\n",
       "      <td>0.436138</td>\n",
       "      <td>-0.254719</td>\n",
       "      <td>-0.044062</td>\n",
       "      <td>0.328864</td>\n",
       "      <td>-0.085596</td>\n",
       "      <td>-0.086917</td>\n",
       "      <td>7</td>\n",
       "      <td>29</td>\n",
       "      <td>18</td>\n",
       "      <td>2</td>\n",
       "      <td>2017</td>\n",
       "      <td>1340.878</td>\n",
       "    </tr>\n",
       "    <tr>\n",
       "      <th>1</th>\n",
       "      <td>VID_18629</td>\n",
       "      <td>5</td>\n",
       "      <td>0.278326</td>\n",
       "      <td>-0.278864</td>\n",
       "      <td>0.072164</td>\n",
       "      <td>0.532326</td>\n",
       "      <td>0.076657</td>\n",
       "      <td>0.075228</td>\n",
       "      <td>6</td>\n",
       "      <td>29</td>\n",
       "      <td>28</td>\n",
       "      <td>6</td>\n",
       "      <td>2016</td>\n",
       "      <td>3370.700</td>\n",
       "    </tr>\n",
       "    <tr>\n",
       "      <th>2</th>\n",
       "      <td>VID_13967</td>\n",
       "      <td>3</td>\n",
       "      <td>-0.221889</td>\n",
       "      <td>0.479703</td>\n",
       "      <td>-0.241266</td>\n",
       "      <td>-0.288379</td>\n",
       "      <td>-0.196950</td>\n",
       "      <td>-0.196444</td>\n",
       "      <td>37</td>\n",
       "      <td>54</td>\n",
       "      <td>10</td>\n",
       "      <td>3</td>\n",
       "      <td>2014</td>\n",
       "      <td>14.648</td>\n",
       "    </tr>\n",
       "    <tr>\n",
       "      <th>3</th>\n",
       "      <td>VID_19442</td>\n",
       "      <td>6</td>\n",
       "      <td>-0.091336</td>\n",
       "      <td>-0.195965</td>\n",
       "      <td>-0.013577</td>\n",
       "      <td>-0.061223</td>\n",
       "      <td>0.151465</td>\n",
       "      <td>0.152042</td>\n",
       "      <td>9</td>\n",
       "      <td>55</td>\n",
       "      <td>5</td>\n",
       "      <td>6</td>\n",
       "      <td>2010</td>\n",
       "      <td>653.142</td>\n",
       "    </tr>\n",
       "    <tr>\n",
       "      <th>4</th>\n",
       "      <td>VID_770</td>\n",
       "      <td>1</td>\n",
       "      <td>-0.166894</td>\n",
       "      <td>-0.359752</td>\n",
       "      <td>-0.037394</td>\n",
       "      <td>-0.037530</td>\n",
       "      <td>0.307379</td>\n",
       "      <td>0.308310</td>\n",
       "      <td>3</td>\n",
       "      <td>8</td>\n",
       "      <td>3</td>\n",
       "      <td>9</td>\n",
       "      <td>2016</td>\n",
       "      <td>6101.116</td>\n",
       "    </tr>\n",
       "  </tbody>\n",
       "</table>\n",
       "</div>"
      ],
      "text/plain": [
       "       vidid category   comment  totalsec  dislikes     likes     views  \\\n",
       "0   VID_1054        1  0.436138 -0.254719 -0.044062  0.328864 -0.085596   \n",
       "1  VID_18629        5  0.278326 -0.278864  0.072164  0.532326  0.076657   \n",
       "2  VID_13967        3 -0.221889  0.479703 -0.241266 -0.288379 -0.196950   \n",
       "3  VID_19442        6 -0.091336 -0.195965 -0.013577 -0.061223  0.151465   \n",
       "4    VID_770        1 -0.166894 -0.359752 -0.037394 -0.037530  0.307379   \n",
       "\n",
       "      watch minut sec day mnth    yr   ad_view  \n",
       "0 -0.086917     7  29  18    2  2017  1340.878  \n",
       "1  0.075228     6  29  28    6  2016  3370.700  \n",
       "2 -0.196444    37  54  10    3  2014    14.648  \n",
       "3  0.152042     9  55   5    6  2010   653.142  \n",
       "4  0.308310     3   8   3    9  2016  6101.116  "
      ]
     },
     "execution_count": 57,
     "metadata": {},
     "output_type": "execute_result"
    }
   ],
   "source": [
    "final_model = RandomForestRegressor(n_estimators=500, random_state=101,n_jobs = -1).fit(train.iloc[:,:-1],train.iloc[:,-1])\n",
    "test['ad_view'] = final_model.predict(test.iloc[:,1:])\n",
    "test.head()"
   ]
  },
  {
   "cell_type": "code",
   "execution_count": 58,
   "metadata": {},
   "outputs": [],
   "source": [
    "#Output\n",
    "test = test.rename(columns={'vidid':'vid_id'})\n",
    "test[['vid_id','ad_view']].to_csv('data/mn/output.csv')"
   ]
  }
 ],
 "metadata": {
  "kernelspec": {
   "display_name": "Python 3",
   "language": "python",
   "name": "python3"
  },
  "language_info": {
   "codemirror_mode": {
    "name": "ipython",
    "version": 3
   },
   "file_extension": ".py",
   "mimetype": "text/x-python",
   "name": "python",
   "nbconvert_exporter": "python",
   "pygments_lexer": "ipython3",
   "version": "3.7.2"
  }
 },
 "nbformat": 4,
 "nbformat_minor": 2
}
